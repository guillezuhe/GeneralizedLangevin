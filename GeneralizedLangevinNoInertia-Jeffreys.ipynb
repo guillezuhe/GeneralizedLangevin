{
 "cells": [
  {
   "cell_type": "markdown",
   "metadata": {},
   "source": [
    "# Generalized Langevin Equation integration\n",
    "\n",
    "Following *Andrew D. Baczewski1 and Stephen D. Bond Numerical Integration of the Extended Variable Generalized Langevin Equation with a\n",
    "Positive Prony Representable Memory Kernel*.\n",
    "\n",
    "The **General Langevin Equation (GLE)** explains the movement of a particle for more general viscoelastic fluids and solids. We thus assume no specific form of the resistance or memory function $\\Gamma (t-t')$, other than causality.\n",
    "\n",
    "$$\n",
    "\\begin{cases}\n",
    "m \\frac{d\\bold{v}}{dt} = \\bold{F^c}(\\bold{x}(t)) + \\bold{F^r}(t) - \\int_{0}^{t}{\\Gamma (t-t') \\bold{v}(t')dt'} \\\\\n",
    "\\bold{v(t)} = \\frac{d\\bold{x}(t)}{dt}\n",
    "\\end{cases}\n",
    "$$\n",
    "\n",
    "with initial conditions $\\bold{x}(0) = \\bold{x_0}$ and $\\bold{v}(0) = \\bold{v_0}$. $F^c$ is a conservative force and $F^r$ is a random force, that must satisfy the Fluctuation-Dissipation Theorem (FDT):\n",
    "\n",
    "$$\n",
    "\\langle F_i^r(t') F_j^r(t) \\rangle = k_B T \\; \\Gamma (t-t') \\; \\delta_{ij}\n",
    "$$\n",
    "\n",
    "Subscripts $i$ and $j$ denote the different components of the vector.\n",
    "\n",
    "In order to solve this general equation with correlated noise, we assume that the memory kernel function can be represented as a Prony series of decaying exponentials with $N_k$ terms.\n",
    "\n",
    "$$\n",
    "\\Gamma (t) = \\sum_{k=1}^{N_k}{\\frac{c_k}{\\tau_k} \\exp[-t / \\tau_k]} \\; \\; \\; \\;\\text{ for } t \\ge 0\n",
    "$$\n",
    "\n",
    "where $c_k$ and $\\tau_k$ are fitting parameters. We will discuss in following sections how to obtain these fitting parameters. We can now define an extended variable $Z_{i,k} (t)$:\n",
    "\n",
    "$$\n",
    "Z_{i,k}(t) = - \\int_{0}^{t}{\\frac{c_k}{\\tau_k} \\exp[- (t - t') / \\tau_k] v_i (t') dt'} \n",
    "$$\n",
    "\n",
    "and making use of $Z_{i,k} (t)$ we can rewrite the GLE for each spatial component:\n",
    "\n",
    "$$\n",
    "\\begin{cases}\n",
    "m dv_i = F_i^c (\\bold{x}(t))dt + \\sum_{k=1}^{N_k}{Z_{i,k} (t) dt} + F_i^r (t) dt \\\\\n",
    "dx_i (t) = v_i (t) dt\n",
    "\\end{cases}\n",
    "$$\n",
    "\n",
    "Now, instead of writing $Z_{i,k} (t)$ in integral form, we can write it in differential form to obtain a Stochastical Differential Equation (SDE).\n",
    "\n",
    "$$\n",
    "dZ_{i,k} (t) = - \\frac{1}{\\tau_k} Z_{i,k} (t) dt - \\frac{c_k}{\\tau_k} v_i (t) dt\n",
    "$$\n",
    "\n",
    "This way, we can couple this equation with the previous set and solve them as a system, obtaining $x_i$, $v_i$ and $z_{i,k}$ without the need of computing the integral.\n",
    "\n",
    "Let us now face the contribution of the random force $F^r$ to make it obey the FDT. To this end, we consider the following SDE\n",
    "\n",
    "$$\n",
    "dF_{i,k} (t) = - \\frac{1}{\\tau_k} F_{i,k} (t) dt + \\frac{1}{\\tau_k} \\sqrt{2 k_B T c_k} dW_{i,k} (t)\n",
    "$$\n",
    "\n",
    "If $W_{i,k}$ is a standard Wiener process, this SDE corresponds to an Ornstein-Uhlenbeck (OU) process. Using the OU properties, one can see that:\n",
    "\n",
    "$$\n",
    "\\langle F_{i,k} (t') F_{i,k} (t) \\rangle = k_B T \\frac{c_k}{\\tau_k} \\exp[-(t-t') / \\tau_k]\n",
    "$$\n",
    "\n",
    "and we can straightforwardly write:\n",
    "\n",
    "$$\n",
    "F_i^r (t) = \\sum_{k=1}^{N_k}{F_{i,k} (t)}\n",
    "$$\n",
    "\n",
    "Combining both results, we can define the final extended variable $S_{i,k} (t) = Z_{i,k} (t) + F_{i,k} (t)$ and achieve a final expression for our set of equations:\n",
    "\n",
    "$$\n",
    "\\begin{cases}\n",
    "m dv_i = F_i^c (\\bold{x}(t))dt + \\sum_{k=1}^{N_k}{S_{i,k} (t) dt} \\\\\n",
    "dx_i (t) = v_i (t) dt \\\\\n",
    "dS_{i,k} (t) = - \\frac{1}{\\tau_k} S_{i,k} (t) dt - \\frac{c_k}{\\tau_k} v_i (t) dt + \\frac{1}{\\tau_k} \\sqrt{2 k_B T c_k} dW_{i,k} (t)\n",
    "\\end{cases}\n",
    "$$\n",
    "\n",
    "**Note**: It can be shown, that in the limit of small $\\tau_k$, the GLE converges to the Newtonian Langevin equation (see original paper)."
   ]
  },
  {
   "cell_type": "markdown",
   "metadata": {},
   "source": [
    "### Equation integration\n",
    "\n",
    "We assume a constant timestep $\\Delta t$ and we will use the notation $x_i (n\\Delta t) = x_i^n$. Therefore, having the values $x_i^n$, $v_i^n$ and $s_{i,k}^n$, we will update to the $(n+1)$th time step following this method:\n",
    "\n",
    "1. Update $v_i$ by a half step:\n",
    "   $$\n",
    "   v_i^{n+1/2} = v_i^n + \\frac{\\Delta t}{2 m} F_i^c(x^n) + \\frac{\\Delta t}{2 m} \\sum_{k=1}^{N_k}{S_{i,k}^n}\n",
    "   $$\n",
    "2. Update $x_i$ by a full step:\n",
    "   $$\n",
    "   x_i^{n+1} = x_i^n + \\Delta t v_i^{n+1/2}\n",
    "   $$\n",
    "3. Update $S_{i,k}$ a by a full step:\n",
    "   $$\n",
    "   S_{i,k}^{n+1} = \\theta_k S_{i,k}^n - (1 - \\theta_k) c_k v_i^{n+1/2} + \\alpha_k \\sqrt{2 k_B T c_k} B_{i,k}^n\n",
    "   $$\n",
    "4. Update $v_i$ by another half step:\n",
    "   $$\n",
    "   v_i^{n+1} = v_i^{n+1/2} + \\frac{\\Delta t}{2 m} F_i^c(x^{n+1}) + \\frac{\\Delta t}{2 m} \\sum_{k=1}^{N_k}{S_{i,k}^{n+1}}\n",
    "   $$\n",
    "\n",
    "B_{i,k}^n is a random number chosen from a Gaussian distribution of zero mean and variance unity $N(0,1)$. The real-valued parameters $\\theta_k$ and $\\alpha_k$ can be obtained by different method, but always satisfying;\n",
    "\n",
    "$$\n",
    "\\theta_k = 1 - \\frac{\\Delta t}{\\tau_k} + \\mathcal{O} (\\Delta t^2)\n",
    "$$\n",
    "\n",
    "$$\n",
    "\\alpha_k = \\frac{\\sqrt{\\Delta t}}{\\tau_k} + \\mathcal{O}(\\Delta t)\n",
    "$$\n",
    "\n",
    "In the original article, there are three proposals to choose $\\theta_k$ and $\\alpha_k$:\n",
    "\n",
    "* Method 1: Euler-Maruyama scheme:\n",
    "   $$\n",
    "   \\theta_k = 1 - \\frac{\\Delta t}{\\tau_k}\n",
    "   \\; \\; \\; \\text{ and } \\; \\; \\;\n",
    "   \\alpha_k = \\frac{\\sqrt{\\Delta t}}{\\tau_k}\n",
    "   $$\n",
    "* Method 2: Keeping $v_i$ constant, the equation for $S_{i,k}$ can be solved exactly, obtaining:\n",
    "   $$\n",
    "   \\theta_k = \\exp{(- \\Delta t / \\tau_k)}\n",
    "   \\; \\; \\; \\text{ and } \\; \\; \\;\n",
    "   \\alpha_k = \\sqrt{\\frac{1 - \\theta_k^2}{2 \\tau_k}}\n",
    "   $$\n",
    "* Method 3: Modified version of Method 2 to improve stability as $\\tau_k$ goes to zero.\n",
    "   $$\n",
    "   \\theta_k = \\exp{(- \\Delta t / \\tau_k)}\n",
    "   \\; \\; \\; \\text{ and } \\; \\; \\;\n",
    "   \\alpha_k = \\sqrt{\\frac{(1 - \\theta_k)^2}{2 \\tau_k}}\n",
    "   $$"
   ]
  },
  {
   "cell_type": "markdown",
   "metadata": {},
   "source": [
    "### Prony's series fitting\n",
    "\n",
    "To implement the previously discussed method, we need to express the kernel function $\\Gamma (t) $ as a sum of $N_k$ decaying exponential functions:\n",
    "\n",
    "$$\n",
    "\\Gamma (t) = \\sum_{k=1}^{N_k}{\\frac{c_k}{\\tau_k} \\exp{[- t / \\tau_k]}}\n",
    "$$\n",
    "\n",
    "with $c_k$ and $\\tau_k$ as fitting parameters. To obtain these parameters, we use the Prony method, implemented as described [here](http://sachinashanbhag.blogspot.com/2017/09/prony-method.html). This function takes as arguments: (i) a time vector, (ii) the $\\Gamma$ function evaluated at the times contained in the vector, and (iii) $N_k$ the number of terms in the sum. It returns two parameters $a_k$ and $b_k$, the coefficients multiplying the base of the exponential and the exponent ($a_k \\exp{[-b_k t]}$). which can be easily converted to our parameters of interest.\n",
    "\n",
    "$$\n",
    "\\tau_k = \\frac{1}{b_k} \\\\\n",
    "c_k = a_k \\tau_k\n",
    "$$"
   ]
  },
  {
   "cell_type": "markdown",
   "metadata": {},
   "source": [
    "### Newtonian component. The Jeffreys model case.\n",
    "\n",
    "The memory kernel of a simple Newtonian fluid is a Dirac's delta $\\Gamma (t) = 2 \\zeta \\delta (t)$, which recovers an instantaneous friction and zero-mean Gaussian white noise.\n",
    "\n",
    "A case of special interest is the combination of this Newtonian component with other viscoelastic contributions, with a general expression like:\n",
    "\n",
    "$$\n",
    "\\Gamma(t) = 2 \\zeta \\delta(t) + \\Gamma_m (t)\n",
    "$$\n",
    "\n",
    "A particular example is the Jeffreys fluid, which adds additional exponential memory to the instantaneous friction, resulting in the following temporal dependency:\n",
    "\n",
    "$$\n",
    "\\Gamma(t) = \\zeta \\left( 2 \\delta(t) + \\frac{\\Delta}{\\tau} \\exp(-t / \\tau) \\right)\n",
    "$$"
   ]
  },
  {
   "cell_type": "markdown",
   "metadata": {},
   "source": [
    "### Inertialess limit\n",
    "\n",
    "$m \\rightarrow 0$"
   ]
  },
  {
   "cell_type": "markdown",
   "metadata": {},
   "source": [
    "Library import"
   ]
  },
  {
   "cell_type": "code",
   "execution_count": 17,
   "metadata": {},
   "outputs": [],
   "source": [
    "import numpy as np\n",
    "import matplotlib.pyplot as plt\n",
    "import numpy.polynomial.polynomial as poly"
   ]
  },
  {
   "cell_type": "markdown",
   "metadata": {},
   "source": [
    "Parameter inicialization"
   ]
  },
  {
   "cell_type": "code",
   "execution_count": 18,
   "metadata": {},
   "outputs": [],
   "source": [
    "KT = 1.0\n",
    "GAMMA = 1.0\n",
    "MASS = 5.0e-4\n",
    "\n",
    "FC = 0.0\n",
    "\n",
    "TIME_STEP = 0.001\n",
    "N_STEP = 10000"
   ]
  },
  {
   "cell_type": "markdown",
   "metadata": {},
   "source": [
    "Prony parameters\n",
    "\n",
    "El tamaño de ck y tk tiene que coincidir con Nk"
   ]
  },
  {
   "cell_type": "code",
   "execution_count": 19,
   "metadata": {},
   "outputs": [],
   "source": [
    "def prony(t, F, m):\n",
    "    #  Input  : real arrays t, F of the same size (ti, Fi)\n",
    "    #         : integer m - the number of modes in the exponential fit\n",
    "    #  Output : arrays a and b such that F(t) ~ sum ai exp(bi*t)\"\"\"\n",
    "\n",
    "\t# Solve LLS problem in step 1\n",
    "\t# Amat is (N-m)*m and bmat is N-m*1\n",
    "\tN    = len(t)\n",
    "\tAmat = np.zeros((N-m, m))\n",
    "\tbmat = F[m:N]\n",
    "\n",
    "\tfor jcol in range(m):\n",
    "\t\tAmat[:, jcol] = F[m-jcol-1:N-1-jcol]\n",
    "\t\t\n",
    "\tsol = np.linalg.lstsq(Amat, bmat)\n",
    "\td = sol[0]\n",
    "\n",
    "\t# Solve the roots of the polynomial in step 2\n",
    "\t# first, form the polynomial coefficients\n",
    "\tc = np.zeros(m+1)\n",
    "\tc[m] = 1.\n",
    "\tfor i in range(1,m+1):\n",
    "\t\tc[m-i] = -d[i-1]\n",
    "\n",
    "\tu = poly.polyroots(c)\n",
    "\tb_est = np.log(u)/(t[1] - t[0])\n",
    "\n",
    "\t# Set up LLS problem to find the \"a\"s in step 3\n",
    "\tAmat = np.zeros((N, m))\n",
    "\tbmat = F\n",
    "\n",
    "\tfor irow in range(N):\n",
    "\t\tAmat[irow, :] = u**irow\n",
    "\t\t\n",
    "\tsol = np.linalg.lstsq(Amat, bmat)\n",
    "\ta_est = sol[0]\n",
    "\n",
    "\treturn a_est, -b_est"
   ]
  },
  {
   "cell_type": "code",
   "execution_count": 20,
   "metadata": {},
   "outputs": [],
   "source": [
    "Nk = 1 # Number of Prony modes\n",
    "# c_v = [0.25]\n",
    "# tau_v = [0.25]\n",
    "\n",
    "# if len(c_v) != Nk or len(tau_v) != Nk:\n",
    "#     print('### ERROR ###')\n",
    "#     print('EL TAMAÑO DE CK Y TK TIENE QUE COINCIDIR CON EL NÚMERO DE MODOS DE PRONY')"
   ]
  },
  {
   "cell_type": "markdown",
   "metadata": {},
   "source": [
    "Exponential kernel"
   ]
  },
  {
   "cell_type": "code",
   "execution_count": 21,
   "metadata": {},
   "outputs": [
    {
     "name": "stderr",
     "output_type": "stream",
     "text": [
      "/tmp/ipykernel_25778/855062173.py:15: FutureWarning: `rcond` parameter will change to the default of machine precision times ``max(M, N)`` where M and N are the input matrix dimensions.\n",
      "To use the future default and silence this warning we advise to pass `rcond=None`, to keep using the old, explicitly pass `rcond=-1`.\n",
      "  sol = np.linalg.lstsq(Amat, bmat)\n",
      "/tmp/ipykernel_25778/855062173.py:35: FutureWarning: `rcond` parameter will change to the default of machine precision times ``max(M, N)`` where M and N are the input matrix dimensions.\n",
      "To use the future default and silence this warning we advise to pass `rcond=None`, to keep using the old, explicitly pass `rcond=-1`.\n",
      "  sol = np.linalg.lstsq(Amat, bmat)\n"
     ]
    }
   ],
   "source": [
    "q = 10\n",
    "tau_m = 1.0\n",
    "\n",
    "t_data = np.linspace(TIME_STEP, N_STEP*TIME_STEP, 200)\n",
    "data = q * GAMMA / tau_m * np.exp(-t_data / tau_m)\n",
    "\n",
    "# Fit the Prony model to the function 'data' to obtain the Prony coefficients\n",
    "a_v, b_v = prony(t_data, data, Nk)"
   ]
  },
  {
   "cell_type": "code",
   "execution_count": 22,
   "metadata": {},
   "outputs": [],
   "source": [
    "# Convert the coefficients of the fit to ck and tauk\n",
    "tau_v = 1.0 / b_v\n",
    "c_v = a_v * tau_v"
   ]
  },
  {
   "cell_type": "code",
   "execution_count": 23,
   "metadata": {},
   "outputs": [
    {
     "name": "stdout",
     "output_type": "stream",
     "text": [
      "ak coefficients [9.990005]\n",
      "bk coefficients [1.]\n"
     ]
    }
   ],
   "source": [
    "print('ak coefficients', a_v)\n",
    "print('bk coefficients', b_v)"
   ]
  },
  {
   "cell_type": "code",
   "execution_count": 24,
   "metadata": {},
   "outputs": [
    {
     "name": "stdout",
     "output_type": "stream",
     "text": [
      "C coefficients [9.990005]\n",
      "tau coefficients [1.]\n"
     ]
    }
   ],
   "source": [
    "print('C coefficients', c_v)\n",
    "print('tau coefficients', tau_v)"
   ]
  },
  {
   "cell_type": "markdown",
   "metadata": {},
   "source": [
    "Plot of the kernel function and its fit"
   ]
  },
  {
   "cell_type": "code",
   "execution_count": 25,
   "metadata": {},
   "outputs": [
    {
     "data": {
      "image/png": "[encoded data removed]",
      "text/plain": [
       "<Figure size 640x480 with 1 Axes>"
      ]
     },
     "metadata": {},
     "output_type": "display_data"
    }
   ],
   "source": [
    "K_v = []\n",
    "for time in t_data:\n",
    "    K = 0.0\n",
    "    for ck, tauk in zip(c_v, tau_v):\n",
    "        K += (ck/tauk) * np.exp(-time/tauk)\n",
    "    \n",
    "    K_v.append(K)\n",
    "\n",
    "\n",
    "plt.figure()\n",
    "plt.loglog(t_data, data, 'o', label='Original function')\n",
    "plt.loglog(t_data, K_v, label='Fit')\n",
    "plt.legend()\n",
    "plt.show()"
   ]
  },
  {
   "cell_type": "markdown",
   "metadata": {},
   "source": [
    "Initial values"
   ]
  },
  {
   "cell_type": "code",
   "execution_count": 26,
   "metadata": {},
   "outputs": [],
   "source": [
    "x0 = 0.0\n",
    "v0 = 0.0\n",
    "s0 = np.zeros(Nk)\n",
    "time = 0 # Initial time\n",
    "\n",
    "# Set the values\n",
    "x = x0\n",
    "v = v0\n",
    "s = s0\n"
   ]
  },
  {
   "cell_type": "markdown",
   "metadata": {},
   "source": [
    "$\\theta_k$ and $\\alpha_k$ values\n",
    "\n",
    "Method 1"
   ]
  },
  {
   "cell_type": "code",
   "execution_count": 27,
   "metadata": {},
   "outputs": [],
   "source": [
    "theta = np.zeros(Nk)\n",
    "alpha = np.zeros(Nk)\n",
    "\n",
    "for k in range(Nk):\n",
    "    theta[k] = 1 - TIME_STEP / tau_v[k]\n",
    "    alpha[k] = np.sqrt(TIME_STEP) / tau_v[k]\n"
   ]
  },
  {
   "cell_type": "markdown",
   "metadata": {},
   "source": [
    "Generalized Langevin Equation (GLE) integration\n",
    "\n",
    "Unidimensional (at the moment)"
   ]
  },
  {
   "cell_type": "code",
   "execution_count": 28,
   "metadata": {},
   "outputs": [],
   "source": [
    "FbN = np.sqrt(2 * KT * GAMMA / TIME_STEP)"
   ]
  },
  {
   "cell_type": "code",
   "execution_count": 29,
   "metadata": {},
   "outputs": [
    {
     "name": "stdout",
     "output_type": "stream",
     "text": [
      "0\n"
     ]
    },
    {
     "name": "stdout",
     "output_type": "stream",
     "text": [
      "10\n",
      "20\n",
      "30\n",
      "40\n",
      "50\n",
      "60\n",
      "70\n",
      "80\n",
      "90\n",
      "100\n",
      "110\n",
      "120\n",
      "130\n",
      "140\n",
      "150\n",
      "160\n",
      "170\n",
      "180\n",
      "190\n",
      "200\n",
      "210\n",
      "220\n",
      "230\n",
      "240\n",
      "250\n",
      "260\n",
      "270\n",
      "280\n",
      "290\n",
      "300\n",
      "310\n",
      "320\n",
      "330\n",
      "340\n",
      "350\n",
      "360\n",
      "370\n",
      "380\n",
      "390\n"
     ]
    }
   ],
   "source": [
    "REP = 400\n",
    "\n",
    "msd = np.zeros(N_STEP)\n",
    "\n",
    "for rep in range(REP):\n",
    "\n",
    "    if rep%10 == 0:\n",
    "        print(rep)\n",
    "\n",
    "    # Set the  initial values\n",
    "    x = x0\n",
    "    v = v0\n",
    "    s = s0\n",
    "    time = 0.0\n",
    "\n",
    "    time_v = []\n",
    "    pos = []\n",
    "    vel = []\n",
    "\n",
    "    for _ in range(N_STEP):\n",
    "        # Random number generation\n",
    "        B = np.random.normal(0, 1, Nk)\n",
    "        Bn = np.random.normal(0, 1, 1)\n",
    "        \n",
    "        # Update v \n",
    "        v = (FC + FbN * Bn[0] + np.sum(s)) / GAMMA\n",
    "  \n",
    "        # Update x a complete step\n",
    "        x = x + TIME_STEP * v\n",
    "\n",
    "        # Update every sk a complete step\n",
    "        for k, sk in enumerate(s):\n",
    "            s[k] = theta[k] * s[k] - (1 - theta[k]) * c_v[k] * v + alpha[k] * np.sqrt(2 * KT * c_v[k]) * B[k] \n",
    "\n",
    "\n",
    "        time += TIME_STEP\n",
    "        \n",
    "        time_v.append(time)\n",
    "        pos.append(x)\n",
    "        vel.append(v)\n",
    "    \n",
    "    msd += np.multiply(pos, pos)\n",
    "\n",
    "msd = msd / REP"
   ]
  },
  {
   "cell_type": "code",
   "execution_count": 30,
   "metadata": {},
   "outputs": [
    {
     "data": {
      "image/png": "[encoded data removed]",
      "text/plain": [
       "<Figure size 640x480 with 1 Axes>"
      ]
     },
     "metadata": {},
     "output_type": "display_data"
    }
   ],
   "source": [
    "plt.figure()\n",
    "plt.plot(time_v, pos)\n",
    "plt.xlabel('Time')\n",
    "plt.ylabel('Position')\n",
    "plt.show()"
   ]
  },
  {
   "cell_type": "code",
   "execution_count": 31,
   "metadata": {},
   "outputs": [],
   "source": [
    "def msd_theo(t,kT,q,zeta_v,tau_m):\n",
    "    return 2*kT*(t + q/(1+q) * tau_m * (1 - np.exp(-(1+q)*t/tau_m)))/(zeta_v*(1+q))"
   ]
  },
  {
   "cell_type": "code",
   "execution_count": 32,
   "metadata": {},
   "outputs": [
    {
     "data": {
      "image/png": "[encoded data removed]",
      "text/plain": [
       "<Figure size 640x480 with 1 Axes>"
      ]
     },
     "metadata": {},
     "output_type": "display_data"
    }
   ],
   "source": [
    "plt.figure()\n",
    "plt.loglog(time_v, msd, 'o', label='Numerical')\n",
    "#plt.loglog(time_v, 2 * KT * np.sin(npower*np.pi) / (npower * GAMMA) * np.power(time_v, npower), label='Power-law n='+str(npower))\n",
    "plt.loglog(time_v, 2 * KT / GAMMA * np.array(time_v), label='Newtonian', linewidth = 3.0)\n",
    "plt.loglog(time_v, msd_theo(np.array(time_v), KT, q, GAMMA, tau_m), label='Theoretical Raikher', linewidth = 3.0, color='r')\n",
    "plt.legend()\n",
    "plt.xlabel('Time')\n",
    "plt.ylabel('MSD')\n",
    "#plt.ylim(1e-2, 1e1)\n",
    "plt.show()"
   ]
  }
 ],
 "metadata": {
  "kernelspec": {
   "display_name": "Python 3",
   "language": "python",
   "name": "python3"
  },
  "language_info": {
   "codemirror_mode": {
    "name": "ipython",
    "version": 3
   },
   "file_extension": ".py",
   "mimetype": "text/x-python",
   "name": "python",
   "nbconvert_exporter": "python",
   "pygments_lexer": "ipython3",
   "version": "3.10.12"
  },
  "orig_nbformat": 4
 },
 "nbformat": 4,
 "nbformat_minor": 2
}
